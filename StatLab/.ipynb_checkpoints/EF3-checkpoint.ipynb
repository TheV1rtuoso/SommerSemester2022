{
 "cells": [
  {
   "cell_type": "code",
   "execution_count": 1,
   "metadata": {},
   "outputs": [],
   "source": [
    "import numpy as np\n",
    "import matplotlib.pyplot as plt\n",
    "from scipy.stats import norm"
   ]
  },
  {
   "cell_type": "code",
   "execution_count": 2,
   "metadata": {},
   "outputs": [],
   "source": [
    "# Standard normal CDF is useful for (c)\n",
    "# Run this cell to see the documentation\n",
    "?norm.cdf"
   ]
  },
  {
   "cell_type": "markdown",
   "metadata": {},
   "source": [
    "### (a)"
   ]
  },
  {
   "cell_type": "code",
   "execution_count": 5,
   "metadata": {},
   "outputs": [],
   "source": [
    "import random \n",
    "def generate_zn(n: int, p: float, num: int) -> np.ndarray:\n",
    "    \"\"\"Generates variates of Z_n as defined in EF.2\n",
    "\n",
    "    Args:\n",
    "        n (int): number of coin tosses (independent bernoulli trials)\n",
    "        p (float): heads (success) probability\n",
    "        num (int): the number of variates to generate\n",
    "\n",
    "    Returns:\n",
    "        np.ndarray: array containing `num` many random variates of Z_n\n",
    "    \"\"\"\n",
    "    z_n = []\n",
    "    for i in range(num):\n",
    "        z = 0  \n",
    "        for _ in range(n):\n",
    "            z += 0 if random.random()<p else 1\n",
    "        z_n.append((1/n)*z)\n",
    "    return np.array(z_n)"
   ]
  },
  {
   "cell_type": "markdown",
   "metadata": {},
   "source": [
    "### (b)"
   ]
  },
  {
   "cell_type": "code",
   "execution_count": 11,
   "metadata": {},
   "outputs": [
    {
     "data": {
      "image/png": "[encoded data removed]",
      "text/plain": [
       "<Figure size 432x288 with 1 Axes>"
      ]
     },
     "metadata": {
      "needs_background": "light"
     },
     "output_type": "display_data"
    }
   ],
   "source": [
    "p = 0.6\n",
    "n_start = 25\n",
    "n_end = 250\n",
    "n_step = 25\n",
    "variates = []\n",
    "for i in range (n_start, n_end, n_step):\n",
    "    variates.append(generate_zn(i,p, 5000))\n",
    "\n",
    "for i in variates:\n",
    "    plt.hist(i)"
   ]
  },
  {
   "cell_type": "code",
   "execution_count": null,
   "metadata": {},
   "outputs": [],
   "source": [
    "..."
   ]
  },
  {
   "cell_type": "markdown",
   "metadata": {},
   "source": [
    "### (c)"
   ]
  },
  {
   "cell_type": "code",
   "execution_count": null,
   "metadata": {},
   "outputs": [],
   "source": [
    "..."
   ]
  }
 ],
 "metadata": {
  "interpreter": {
   "hash": "34e32e0ce50f52877d92d75e9861bd1b089003c800811a75996110a31449757a"
  },
  "kernelspec": {
   "display_name": "Python 3 (ipykernel)",
   "language": "python",
   "name": "python3"
  },
  "language_info": {
   "codemirror_mode": {
    "name": "ipython",
    "version": 3
   },
   "file_extension": ".py",
   "mimetype": "text/x-python",
   "name": "python",
   "nbconvert_exporter": "python",
   "pygments_lexer": "ipython3",
   "version": "3.10.4"
  }
 },
 "nbformat": 4,
 "nbformat_minor": 2
}
