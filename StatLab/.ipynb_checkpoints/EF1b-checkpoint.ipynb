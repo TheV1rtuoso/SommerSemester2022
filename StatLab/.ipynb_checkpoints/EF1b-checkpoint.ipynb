{
 "cells": [
  {
   "cell_type": "code",
   "execution_count": 1,
   "id": "4833d88c",
   "metadata": {},
   "outputs": [],
   "source": [
    "from typing import Callable\n",
    "import numpy as np\n",
    "import random"
   ]
  },
  {
   "cell_type": "code",
   "execution_count": 1,
   "id": "ea0632ca",
   "metadata": {},
   "outputs": [
    {
     "ename": "NameError",
     "evalue": "name 'Callable' is not defined",
     "output_type": "error",
     "traceback": [
      "\u001b[0;31m---------------------------------------------------------------------------\u001b[0m",
      "\u001b[0;31mNameError\u001b[0m                                 Traceback (most recent call last)",
      "Input \u001b[0;32mIn [1]\u001b[0m, in \u001b[0;36m<cell line: 1>\u001b[0;34m()\u001b[0m\n\u001b[0;32m----> 1\u001b[0m \u001b[38;5;28;01mdef\u001b[39;00m \u001b[38;5;21mrejection_sampling\u001b[39m(n:\u001b[38;5;28mint\u001b[39m, f:\u001b[43mCallable\u001b[49m):\n\u001b[1;32m      2\u001b[0m     \u001b[38;5;28;01mdef\u001b[39;00m \u001b[38;5;21mupper_bound\u001b[39m(x0:\u001b[38;5;28mint\u001b[39m, x1:\u001b[38;5;28mint\u001b[39m\u001b[38;5;241m=\u001b[39mf(\u001b[38;5;241m0\u001b[39m)):\n\u001b[1;32m      3\u001b[0m         \u001b[38;5;28;01mreturn\u001b[39;00m \u001b[38;5;28mmin\u001b[39m(\u001b[38;5;241m1\u001b[39m\u001b[38;5;241m/\u001b[39mx0,x1) \u001b[38;5;28;01mif\u001b[39;00m x0 \u001b[38;5;241m>\u001b[39m \u001b[38;5;241m0\u001b[39m \u001b[38;5;28;01melse\u001b[39;00m x1\n",
      "\u001b[0;31mNameError\u001b[0m: name 'Callable' is not defined"
     ]
    }
   ],
   "source": [
    "def rejection_sampling(n:int, f:Callable):\n",
    "    def upper_bound(x0:int, x1:int=f(0)):\n",
    "        return min(1/x0,x1) if x0 > 0 else x1\n",
    "        \n",
    "    res = []\n",
    "    i = 0 \n",
    "    while i < n:\n",
    "        x = random.random() \n",
    "        y = random.random()*upper_bound(x)\n",
    "        if y <= f(x):\n",
    "            res.append(y)\n",
    "            i += 1\n",
    "    return res\n",
    "rejection_sampling(10000, (lambda x: 0.5 if x<0.5 else 0.8))\n"
   ]
  }
 ],
 "metadata": {
  "kernelspec": {
   "display_name": "Python 3 (ipykernel)",
   "language": "python",
   "name": "python3"
  },
  "language_info": {
   "codemirror_mode": {
    "name": "ipython",
    "version": 3
   },
   "file_extension": ".py",
   "mimetype": "text/x-python",
   "name": "python",
   "nbconvert_exporter": "python",
   "pygments_lexer": "ipython3",
   "version": "3.10.4"
  }
 },
 "nbformat": 4,
 "nbformat_minor": 5
}
