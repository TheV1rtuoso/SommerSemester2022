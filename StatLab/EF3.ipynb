{
 "cells": [
  {
   "cell_type": "code",
   "execution_count": 1,
   "metadata": {},
   "outputs": [],
   "source": [
    "import numpy as np\n",
    "import matplotlib.pyplot as plt\n",
    "from scipy.stats import norm"
   ]
  },
  {
   "cell_type": "code",
   "execution_count": 2,
   "metadata": {},
   "outputs": [],
   "source": [
    "# Standard normal CDF is useful for (c)\n",
    "# Run this cell to see the documentation\n",
    "?norm.cdf"
   ]
  },
  {
   "cell_type": "markdown",
   "metadata": {},
   "source": [
    "### (a)"
   ]
  },
  {
   "cell_type": "code",
   "execution_count": 3,
   "metadata": {},
   "outputs": [],
   "source": [
    "import random \n",
    "def generate_zn(n: int, p: float, num: int) -> np.ndarray:\n",
    "    \"\"\"Generates variates of Z_n as defined in EF.2\n",
    "\n",
    "    Args:\n",
    "        n (int): number of coin tosses (independent bernoulli trials)\n",
    "        p (float): heads (success) probability\n",
    "        num (int): the number of variates to generate\n",
    "\n",
    "    Returns:\n",
    "        np.ndarray: array containing `num` many random variates of Z_n\n",
    "    \"\"\"\n",
    "    z_n = []\n",
    "    for i in range(num):\n",
    "        z = 0  \n",
    "        for _ in range(n):\n",
    "            z += 0 if random.random()<p else 1\n",
    "        z_n.append((1/n)*z)\n",
    "    return np.array(z_n)"
   ]
  },
  {
   "cell_type": "markdown",
   "metadata": {},
   "source": [
    "### (b)"
   ]
  },
  {
   "cell_type": "code",
   "execution_count": 4,
   "metadata": {},
   "outputs": [
    {
     "name": "stdout",
     "output_type": "stream",
     "text": [
      "[0.1502 0.1014 0.038  0.0262 0.0156 0.0078 0.0038 0.003  0.0014]\n"
     ]
    },
    {
     "data": {
      "image/png": "[encoded data removed]",
      "text/plain": [
       "<Figure size 432x288 with 1 Axes>"
      ]
     },
     "metadata": {
      "needs_background": "light"
     },
     "output_type": "display_data"
    }
   ],
   "source": [
    "p = 0.6\n",
    "n_start = 25\n",
    "n_end = 250\n",
    "n_step = 25\n",
    "epsilon = 0.1\n",
    "variates = []\n",
    "for i in range (n_start, n_end, n_step):\n",
    "    variates.append(generate_zn(i,p, 5000))\n",
    "\n",
    "variates_count =  np.array(list(map(lambda y: len(list(filter(lambda x: abs(x-0.6) < epsilon,y)))/5000, variates)))\n",
    "print(variates_count)\n",
    "\n",
    "x_axis = range (n_start, n_end, n_step)\n",
    "\n",
    "plt.plot(x_axis,variates_count)\n",
    "\n",
    "plt.show()"
   ]
  },
  {
   "cell_type": "code",
   "execution_count": 8,
   "metadata": {},
   "outputs": [
    {
     "ename": "ModuleNotFoundError",
     "evalue": "No module named 'thread'",
     "output_type": "error",
     "traceback": [
      "\u001b[0;31m---------------------------------------------------------------------------\u001b[0m",
      "\u001b[0;31mModuleNotFoundError\u001b[0m                       Traceback (most recent call last)",
      "Input \u001b[0;32mIn [8]\u001b[0m, in \u001b[0;36m<cell line: 1>\u001b[0;34m()\u001b[0m\n\u001b[0;32m----> 1\u001b[0m \u001b[38;5;28;01mimport\u001b[39;00m \u001b[38;5;21;01mthread\u001b[39;00m\n\u001b[1;32m      2\u001b[0m tread\u001b[38;5;241m.\u001b[39mstart()\n",
      "\u001b[0;31mModuleNotFoundError\u001b[0m: No module named 'thread'"
     ]
    }
   ],
   "source": [
    "def p():\n",
    "\n",
    "\n",
    "import threading\n",
    "t1 = threading.Thread(target=print_square, args=(10,))"
   ]
  },
  {
   "cell_type": "markdown",
   "metadata": {},
   "source": [
    "### (c)"
   ]
  },
  {
   "cell_type": "code",
   "execution_count": 7,
   "metadata": {},
   "outputs": [
    {
     "data": {
      "text/plain": [
       "[<matplotlib.lines.Line2D at 0x7f8c3963d6f0>]"
      ]
     },
     "execution_count": 7,
     "metadata": {},
     "output_type": "execute_result"
    },
    {
     "data": {
      "image/png": "[encoded data removed]",
      "text/plain": [
       "<Figure size 432x288 with 1 Axes>"
      ]
     },
     "metadata": {
      "needs_background": "light"
     },
     "output_type": "display_data"
    }
   ],
   "source": [
    "plt.plot(x_axis, [1/(4*n*epsilon**2) for n in x_axis])\n",
    "plt.plot(x_axis,variates_count)\n",
    "\n",
    "# orange: empirical sample \n",
    "# blue: cheb\n",
    "#"
   ]
  }
 ],
 "metadata": {
  "interpreter": {
   "hash": "34e32e0ce50f52877d92d75e9861bd1b089003c800811a75996110a31449757a"
  },
  "kernelspec": {
   "display_name": "Python 3 (ipykernel)",
   "language": "python",
   "name": "python3"
  },
  "language_info": {
   "codemirror_mode": {
    "name": "ipython",
    "version": 3
   },
   "file_extension": ".py",
   "mimetype": "text/x-python",
   "name": "python",
   "nbconvert_exporter": "python",
   "pygments_lexer": "ipython3",
   "version": "3.10.4"
  }
 },
 "nbformat": 4,
 "nbformat_minor": 2
}
