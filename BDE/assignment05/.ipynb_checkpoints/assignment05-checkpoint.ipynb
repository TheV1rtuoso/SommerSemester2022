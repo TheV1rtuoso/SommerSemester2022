{
 "cells": [
  {
   "cell_type": "markdown",
   "metadata": {},
   "source": [
    "## 4 Kommissar Equi-Join's schwerster Fall (5 Punkte)\n",
    "Copyright Jens Dittrich & Christian Schön, [Big Data Analytics Group](https://bigdata.uni-saarland.de/), [CC-BY-SA](https://creativecommons.org/licenses/by-sa/4.0/legalcode)\n",
    "\n",
    "In this exercise you will help commissioner equi-join solving one of his old, unsolved cases."
   ]
  },
  {
   "cell_type": "markdown",
   "metadata": {},
   "source": [
    "## Requirements\n",
    "\n",
    "This notebook is based on the sqlite3-kernel by Andrew Brownan which is [available on GitHub](https://github.com/brownan/sqlite3-kernel). As the kernel is based on the bash shell, it will only run on Unix systems, but not on Windows.\n",
    "\n",
    "The easiest way to use this notebook is to use our `Vagrantfile` as explained [here](https://github.com/BigDataAnalyticsGroup/vagrant-bde).\n",
    "\n",
    "Alternatively, if you want to install the sqlite kernel yourself, follow these steps:\n",
    "1. Download the repository as zip file or clone it using git, if necessary unpack the archive.\n",
    "2. If you are using a virtual machine, copy the folder to a location accessible by the virtual machine, e.g. a shared folder. Run your virtual machine and if necessary start your python environment.\n",
    "3. Move to the folder containing the kernel and execute the following commands:\n",
    "  - python setup.py install\n",
    "  - python -m sqlite3_kernel.install\n",
    "  \n",
    "If the kernel was successfully installed, you should now be able to start jupyter notebook and select \"Sqlite3\" as notebook type for new notebooks. \n",
    "\n",
    "In case of problems, you can delete the kernel using the following steps:\n",
    "1. Look up the kernel name by executing the command: jupyter kernelspec list\n",
    "2. Delete the kernel: jupyter kernelspec uninstall kernel_name"
   ]
  },
  {
   "cell_type": "markdown",
   "metadata": {},
   "source": [
    "## Load Data\n",
    "\n",
    "Before we can start analyzing the data, we first have to load data from the corresponding csv files into an appropriate database schema. This is fake data."
   ]
  },
  {
   "cell_type": "code",
   "execution_count": 1,
   "metadata": {},
   "outputs": [
    {
     "name": "stdout",
     "output_type": "stream",
     "text": [
      "\u001b[?2004l\r",
      "\u001b[?2004h\u001b[?2004l\r",
      "\u001b[?2004h\u001b[?2004l\r",
      "\u001b[?2004h\u001b[?2004l\r",
      "\u001b[?2004h\u001b[?2004l\r",
      "\u001b[?2004h\u001b[?2004l\r",
      "\u001b[?2004h\u001b[?2004l\r",
      "\u001b[?2004h\u001b[?2004l\r",
      "\u001b[?2004h\u001b[?2004l\r",
      "\u001b[?2004h\u001b[?2004l\r",
      "\u001b[?2004h\u001b[?2004l\r",
      "\u001b[?2004h\u001b[?2004l\r",
      "\u001b[?2004h\u001b[?2004l\r",
      "\u001b[?2004h\u001b[?2004l\r",
      "\u001b[?2004h\u001b[?2004l\r",
      "\u001b[?2004h\u001b[?2004l\r",
      "\u001b[?2004h\u001b[?2004l\r",
      "\u001b[?2004h\u001b[?2004l\r",
      "\u001b[?2004h\u001b[?2004l\r",
      "\u001b[?2004h\u001b[?2004l\r",
      "\u001b[?2004h\u001b[?2004l\r",
      "\u001b[?2004h\u001b[?2004l\r",
      "\u001b[?2004h\u001b[?2004l\r",
      "\u001b[?2004h\u001b[?2004l\r",
      "\u001b[?2004h\u001b[?2004l\r",
      "\u001b[?2004h\u001b[?2004l\r",
      "\u001b[?2004h\u001b[?2004l\r",
      "\u001b[?2004h\u001b[?2004l\r",
      "\u001b[?2004h\u001b[?2004l\r",
      "\u001b[?2004h\u001b[?2004l\r",
      "\u001b[?2004h\u001b[?2004l\r",
      "\u001b[?2004h\u001b[?2004l\r",
      "\u001b[?2004h\u001b[?2004l\r",
      "\u001b[?2004h\u001b[?2004l\r",
      "\u001b[?2004h\u001b[?2004l\r",
      "\u001b[?2004h\u001b[?2004l\r",
      "\u001b[?2004h\u001b[?2004l\r",
      "\u001b[?2004h\u001b[?2004l\r",
      "\u001b[?2004h\u001b[?2004l\r",
      "\u001b[?2004h\u001b[?2004l\r",
      "\u001b[?2004h\u001b[?2004l\r",
      "\u001b[?2004h\u001b[?2004l\r",
      "\u001b[?2004h\u001b[?2004l\r",
      "\u001b[?2004h\u001b[?2004l\r",
      "\u001b[?2004h\u001b[?2004l\r",
      "\u001b[?2004h\u001b[?2004l\r",
      "\u001b[?2004h\u001b[?2004l\r",
      "\u001b[?2004h\u001b[?2004l\r",
      "\u001b[?2004h\u001b[?2004l\r",
      "\u001b[?2004h\u001b[?2004l\r",
      "\u001b[?2004h\u001b[?2004l\r",
      "\u001b[?2004h\u001b[?2004l\r",
      "\u001b[?2004h\u001b[?2004l\r",
      "\u001b[?2004h\u001b[?2004l\r",
      "\u001b[?2004h\u001b[?2004l\r",
      "\u001b[?2004h\u001b[?2004l\r",
      "\u001b[?2004h\u001b[?2004l\r",
      "\u001b[?2004h"
     ]
    }
   ],
   "source": [
    "PRAGMA foreign_keys = OFF;\n",
    "\n",
    "DROP TABLE IF EXISTS purchases;\n",
    "DROP TABLE IF EXISTS nutritionalValues;\n",
    "DROP TABLE IF EXISTS livingIn;\n",
    "DROP TABLE IF EXISTS households;\n",
    "DROP TABLE IF EXISTS citizens;\n",
    "DROP TABLE IF EXISTS articles;\n",
    "\n",
    "PRAGMA foreign_keys = ON;\n",
    "\n",
    "CREATE TABLE households (\n",
    "    id INTEGER PRIMARY KEY,\n",
    "    street TEXT,\n",
    "    postcode INTEGER,\n",
    "    city TEXT,\n",
    "    floor INTEGER\n",
    ");\n",
    "\n",
    "CREATE TABLE citizens (\n",
    "    id INTEGER PRIMARY KEY,\n",
    "    firstname TEXT,\n",
    "    lastname TEXT,\n",
    "    birthday TEXT\n",
    ");\n",
    "\n",
    "CREATE TABLE livingIn (\n",
    "    household_id INTEGER,\n",
    "    citizen_id INTEGER,\n",
    "    start TEXT,\n",
    "    until TEXT,\n",
    "    FOREIGN KEY(household_id) REFERENCES households(id),\n",
    "    FOREIGN KEY(citizen_id) REFERENCES citizens(id),\n",
    "    PRIMARY KEY(citizen_id, start, until)\n",
    ");\n",
    "\n",
    "CREATE TABLE articles (\n",
    "    id INTEGER PRIMARY KEY,\n",
    "    label TEXT,\n",
    "    unit INTEGER\n",
    ");\n",
    "\n",
    "CREATE TABLE nutritionalValues (\n",
    "    id INTEGER PRIMARY KEY,\n",
    "    calories INTEGER,\n",
    "    FOREIGN KEY(id) REFERENCES articles(id)\n",
    ");\n",
    "\n",
    "CREATE TABLE purchases (\n",
    "    article_id INTEGER,\n",
    "    citizen_id INTEGER,\n",
    "    date TEXT,\n",
    "    amount REAL,\n",
    "    FOREIGN KEY(article_id) REFERENCES articles(id),\n",
    "    FOREIGN KEY(citizen_id) REFERENCES citizens(id),\n",
    "    PRIMARY KEY(article_id, citizen_id, date)\n",
    ");"
   ]
  },
  {
   "cell_type": "code",
   "execution_count": 2,
   "metadata": {},
   "outputs": [
    {
     "name": "stdout",
     "output_type": "stream",
     "text": [
      "\u001b[?2004l\r",
      "\u001b[?2004h\u001b[?2004l\r",
      "\u001b[?2004h\u001b[?2004l\r",
      "\u001b[?2004h\u001b[?2004l\r",
      "\u001b[?2004h\u001b[?2004l\r",
      "\u001b[?2004h\u001b[?2004l\r",
      "\u001b[?2004h\u001b[?2004l\r",
      "\u001b[?2004h\u001b[?2004l\r",
      "\u001b[?2004h\u001b[?2004l\r",
      "\u001b[?2004h\u001b[?2004l\r",
      "\u001b[?2004h\u001b[?2004l\r",
      "\u001b[?2004h\u001b[?2004l\r",
      "\u001b[?2004h\u001b[?2004l\r",
      "\u001b[?2004h\u001b[?2004l\r",
      "\u001b[?2004h"
     ]
    }
   ],
   "source": [
    "-- enable csv mode:\n",
    ".mode csv\n",
    "\n",
    "-- import the necessary files:\n",
    ".import data/nsa/households_no_header.csv households\n",
    ".import data/nsa/citizens_no_header.csv citizens\n",
    ".import data/nsa/livingIn_no_header.csv livingIn\n",
    ".import data/nsa/articles_no_header.csv articles\n",
    ".import data/nsa/nutritionalValues_no_header.csv nutritionalValues\n",
    ".import data/nsa/purchases_no_header.csv purchases\n",
    "\n",
    "-- enable pretty formatting:\n",
    ".mode columns\n",
    ".headers on"
   ]
  },
  {
   "cell_type": "markdown",
   "metadata": {},
   "source": [
    "### Your query\n",
    "\n",
    "Enter your query in the following cell. It should output the list of main suspects in the following format:\n",
    "1. The first names of the suspects as 'Vorname'\n",
    "2. The last names of the suspects as 'Nachname'\n",
    "\n",
    "You are allowed to use subqueries and views."
   ]
  },
  {
   "cell_type": "code",
   "execution_count": 6,
   "metadata": {},
   "outputs": [
    {
     "name": "stdout",
     "output_type": "stream",
     "text": [
      "\u001b[?2004l\r",
      "\u001b[?2004h\u001b[?2004l\r",
      "\u001b[?2004h\u001b[?2004l\r",
      "\u001b[?2004h\u001b[?2004l\r",
      "\u001b[?2004h\u001b[?2004l\r",
      "\u001b[?2004h\u001b[?2004l\r",
      "\u001b[?2004h\u001b[?2004l\r",
      "\u001b[?2004h\u001b[?2004l\r",
      "\u001b[?2004h\u001b[?2004l\r",
      "Parse error: view purchases_filtered already exists\r\n",
      "  CREATE VIEW purchases_filtered AS SELECT *, SUM(amount)  FROM purchases as p J\r\n",
      "              ^--- error here\r\n",
      "\u001b[?2004h"
     ]
    }
   ],
   "source": [
    "CREATE VIEW purchases_filtered AS\n",
    "SELECT *, SUM(amount) \n",
    "FROM purchases as p JOIN articles as a \n",
    "ON p.article_id=a.id \n",
    "WHERE date > DATE(\"1943-11-24\", \"-5 DAY\") AND date <= DATE(\"1943-11-24\") \n",
    "GROUP BY citizen_id, article_id\n",
    "HAVING (label != 'Pickle' OR SUM(amount) == 0.5) AND -- pickles and carrots can be used for other things then just for the poison \n",
    "(label != 'Salad' OR SUM(amount) >= 0.5) AND         -- upper bounds my not be correct\n",
    "(label != 'Carrot' OR (SUM(amount) >= 1 AND SUM(amount) <= 3))"
   ]
  },
  {
   "cell_type": "code",
   "execution_count": 8,
   "metadata": {},
   "outputs": [
    {
     "name": "stdout",
     "output_type": "stream",
     "text": [
      "\u001b[?2004l\r",
      "\u001b[?2004h\u001b[?2004l\r",
      "\u001b[?2004h\u001b[?2004l\r",
      "\u001b[?2004h\u001b[?2004l\r",
      "\u001b[?2004h\u001b[?2004l\r",
      "\u001b[?2004h\u001b[?2004l\r",
      "\u001b[?2004h\u001b[?2004l\r",
      "\u001b[?2004h\u001b[?2004l\r",
      "\u001b[?2004h\u001b[?2004l\r",
      "\u001b[?2004h"
     ]
    }
   ],
   "source": [
    "CREATE VIEW purchases_filtered2 AS\n",
    "SELECT *, SUM(amount) \n",
    "FROM purchases as p JOIN articles as a \n",
    "ON p.article_id=a.id \n",
    "WHERE date > DATE(\"1943-11-24\", \"-5 DAY\") AND date <= DATE(\"1943-11-24\") \n",
    "GROUP BY citizen_id, article_id\n",
    "HAVING (label != 'Pickle' OR SUM(amount) >= 0.5) AND -- pickles and carrots can be used for other things then just for the poison \n",
    "(label != 'Salad' OR SUM(amount) >= 0.5) AND         -- upper bounds my not be correct\n",
    "(label != 'Carrot' OR (SUM(amount) >= 1))"
   ]
  },
  {
   "cell_type": "code",
   "execution_count": 9,
   "metadata": {},
   "outputs": [
    {
     "name": "stdout",
     "output_type": "stream",
     "text": [
      "\u001b[?2004l\r",
      "\u001b[?2004h\u001b[?2004l\r",
      "\u001b[?2004h\u001b[?2004l\r",
      "\u001b[?2004h\u001b[?2004l\r",
      "firstname  lastname\r\n",
      "---------  --------\r\n",
      "Norman     Bates   \r\n",
      "Henri      Schmidt \r\n",
      "\u001b[?2004h\u001b[?2004l\r",
      "\u001b[?2004h"
     ]
    }
   ],
   "source": [
    "SELECT c.firstname, c.lastname\n",
    "FROM (SELECT citizen_id FROM purchases_filtered2\n",
    "GROUP BY citizen_id \n",
    "HAVING COUNT(*)=3) p JOIN  citizens c ON p.citizen_id = c.id ;\n",
    "-- movie reverence :) "
   ]
  }
 ],
 "metadata": {
  "kernelspec": {
   "display_name": "Sqlite3",
   "language": "sqlite3",
   "name": "sqlite3"
  },
  "language_info": {
   "codemirror_mode": "sql",
   "file_extension": ".sql",
   "mimetype": "text/x-sql",
   "name": "sqlite3"
  },
  "varInspector": {
   "cols": {
    "lenName": 16,
    "lenType": 16,
    "lenVar": 40
   },
   "kernels_config": {
    "python": {
     "delete_cmd_postfix": "",
     "delete_cmd_prefix": "del ",
     "library": "var_list.py",
     "varRefreshCmd": "print(var_dic_list())"
    },
    "r": {
     "delete_cmd_postfix": ") ",
     "delete_cmd_prefix": "rm(",
     "library": "var_list.r",
     "varRefreshCmd": "cat(var_dic_list()) "
    }
   },
   "types_to_exclude": [
    "module",
    "function",
    "builtin_function_or_method",
    "instance",
    "_Feature"
   ],
   "window_display": false
  }
 },
 "nbformat": 4,
 "nbformat_minor": 2
}
