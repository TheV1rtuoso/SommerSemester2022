{
 "cells": [
  {
   "cell_type": "markdown",
   "metadata": {
    "pycharm": {
     "name": "#%% md\n"
    }
   },
   "source": [
    "# 3 Implementierung KeyRelation (5 Punkte)\n",
    "\n",
    "Copyright Jens Dittrich & Marcel Maltry, [Big Data Analytics Group](https://bigdata.uni-saarland.de/), [CC-BY-SA](https://creativecommons.org/licenses/by-sa/4.0/legalcode)"
   ]
  },
  {
   "cell_type": "code",
   "execution_count": 9,
   "metadata": {
    "pycharm": {
     "name": "#%%\n"
    }
   },
   "outputs": [],
   "source": [
    "from collections import defaultdict\n",
    "from ra.utils import load_csv\n",
    "from ra.relation import Relation"
   ]
  },
  {
   "cell_type": "code",
   "execution_count": 9,
   "outputs": [],
   "source": [],
   "metadata": {
    "collapsed": false,
    "pycharm": {
     "name": "#%%\n"
    }
   }
  },
  {
   "cell_type": "markdown",
   "metadata": {
    "pycharm": {
     "name": "#%% md\n"
    }
   },
   "source": [
    "## The `Relation` class\n",
    "    \n",
    "The class `Relation` is implemented in `ra.relation` and implements the following methods:\n",
    "* `add_tuple(tup)`: Adds the tuple `tup` if the tuple's schema is valid.\n",
    "* Several print methods\n",
    "\n",
    "**Remember:** Neither the order of rows nor the order of columns carry any meaning in a relation!"
   ]
  },
  {
   "cell_type": "markdown",
   "metadata": {
    "pycharm": {
     "name": "#%% md\n"
    }
   },
   "source": [
    "### Exercise\n",
    "Extend class `Relation` to support keys and unique attributes and check for duplicates of keys (uniques) when adding tuples:"
   ]
  },
  {
   "cell_type": "code",
   "execution_count": 10,
   "outputs": [],
   "source": [
    "# upload the contents of this cell to our CMS as a text file\n",
    "\n",
    "# a relation subclass respecting key/unique constraints:\n",
    "class KeyRelation(Relation):\n",
    "    # keys: names of the key attributes as a list\n",
    "    # uniques: names of the unique attributes as a list\n",
    "    def __init__(self, name, schema, keys, uniques):\n",
    "        super().__init__(name, schema)\n",
    "\n",
    "        # assert that the list of keys/uniques is subset-equal self-attributes:\n",
    "        assert set(keys) <= set(self.attributes)\n",
    "        assert set(uniques) <= set(self.attributes)\n",
    "        # make sure that at least one key/unique attribute is defined:\n",
    "        assert len(keys) >= 1\n",
    "        assert len(uniques) >= 1\n",
    "\n",
    "        # add your code here!\n",
    "        self.unique_idx:list[int] = []\n",
    "        self.key_idx:list[int] = []\n",
    "        for i, e in enumerate(schema):\n",
    "            if e[0] in uniques:\n",
    "                self.unique_idx.append(i)\n",
    "            if e[0] in keys:\n",
    "                self.key_idx.append(i)\n",
    "        self.uniques = set()\n",
    "        self.keys = set()\n",
    "\n",
    "    def add_tuple(self, tup):\n",
    "        # check if there is a tuple with the same key/unique in the relation\n",
    "        # only insert it using super().add_tuple(tup) if there is not.\n",
    "        # raise a ValueError if the key or unique is already present.\n",
    "        # Make sure to perform your check in O(1) time!\n",
    "        # O(num_uniques)+O(check_shema) but ok ;)\n",
    "        self._check_schema(tup)\n",
    "\n",
    "        #check key\n",
    "        curr_key = tuple(map(lambda x: tup[x], self.key_idx))\n",
    "        if curr_key in self.keys:\n",
    "            raise ValueError(\"Key\")\n",
    "        self.keys.add(curr_key)\n",
    "\n",
    "        curr_unique = tuple(map(lambda x: tup[x], self.unique_idx))\n",
    "        print(curr_key, curr_unique, self.keys, self.uniques)\n",
    "        if curr_unique in self.uniques:\n",
    "            raise ValueError(\"Unique\")\n",
    "        self.uniques.add(curr_unique)\n",
    "\n",
    "        return super().add_tuple(tup)\n",
    "\n",
    "    def print_schema(self):\n",
    "        super().print_schema()\n",
    "        # add your code here!\n",
    "        # ...\n",
    "        # should also print the key and unique attributes\n",
    "        pass"
   ],
   "metadata": {
    "collapsed": false,
    "pycharm": {
     "name": "#%%\n"
    }
   }
  },
  {
   "cell_type": "markdown",
   "metadata": {
    "pycharm": {
     "name": "#%% md\n"
    }
   },
   "source": [
    "### Unit Test for Relation\n",
    "\n",
    "Note that test cases are by no means exhaustive!"
   ]
  },
  {
   "cell_type": "code",
   "execution_count": 11,
   "metadata": {
    "pycharm": {
     "name": "#%%\n"
    }
   },
   "outputs": [],
   "source": [
    "import unittest\n",
    "\n",
    "class RelationTest(unittest.TestCase):\n",
    "\n",
    "    def setUp(self):\n",
    "        self.foo = Relation('foo', [('id', int), ('name', str)])\n",
    "        self.foo.add_tuple( (2,'Hello') )\n",
    "        self.foo.add_tuple( (7,'World') )\n",
    "        self.foo.add_tuple( (1,'!') )\n",
    "\n",
    "        self.bar = Relation('bar', [('a', int), ('b', int), ('c', int), ('d', int)])\n",
    "        self.bar.add_tuple( (1, 2, 3, 4) )\n",
    "        self.bar.add_tuple( (2, 2, 3, 4) )\n",
    "        self.bar.add_tuple( (3, 2, 3, 4) )\n",
    "        self.bar.add_tuple( (4, 2, 3, 4) )\n",
    "        self.bar.add_tuple( (5, 2, 3, 4) )\n",
    "        \n",
    "    def test_size(self):\n",
    "        # foo should contain 3 tuples\n",
    "        self.assertEqual(len(self.foo), 3)\n",
    "        # check valid insert\n",
    "        self.assertTrue(self.foo.add_tuple( (3, '?') ))\n",
    "        self.assertEqual(len(self.foo), 4)\n",
    "        # check duplicate insert\n",
    "        self.assertFalse(self.foo.add_tuple( (1,'!') ))\n",
    "        self.assertEqual(len(self.foo), 4)\n",
    "        \n",
    "        \n",
    "        # bar should contain 5 tuples\n",
    "        self.assertEqual(len(self.bar), 5)\n",
    "        # check valid insert\n",
    "        self.assertTrue(self.bar.add_tuple( (6, 2, 3, 4) ))\n",
    "        self.assertEqual(len(self.bar), 6)\n",
    "        # check duplicate insert\n",
    "        self.assertFalse(self.bar.add_tuple( (5, 2, 3, 4) ))\n",
    "        self.assertEqual(len(self.bar), 6)\n",
    "    \n",
    "    def test_schema(self):\n",
    "        # incorrectly typed tuple\n",
    "        with self.assertRaises(AssertionError):\n",
    "            self.foo.add_tuple( ('wrong order', 42) )\n",
    "        with self.assertRaises(AssertionError):\n",
    "            self.foo.add_tuple( (0.1, 'wrong type') )\n",
    "        # inccorectly sized tuples\n",
    "        with self.assertRaises(AssertionError):\n",
    "            self.foo.add_tuple( (6, 'wrong size', 12) )\n",
    "        with self.assertRaises(AssertionError):\n",
    "            self.foo.add_tuple( (42,) )\n",
    "        \n",
    "        # incorrectly typed tuple\n",
    "        with self.assertRaises(AssertionError):\n",
    "            self.bar.add_tuple( (0.1, 0.2, 0.3, 0.4) )\n",
    "        with self.assertRaises(AssertionError):\n",
    "            self.bar.add_tuple( ('1', '3', '2', '4') )\n",
    "        # incorrectly sized\n",
    "        with self.assertRaises(AssertionError):\n",
    "            self.bar.add_tuple( (1, 2, 4, 5, 6) )\n",
    "        with self.assertRaises(AssertionError):\n",
    "            self.bar.add_tuple( (1, 2, 4) )"
   ]
  },
  {
   "cell_type": "markdown",
   "metadata": {
    "pycharm": {
     "name": "#%% md\n"
    }
   },
   "source": [
    "### Unit Test for KeyRelation\n",
    "\n",
    "Note that test cases are by no means exhaustive!"
   ]
  },
  {
   "cell_type": "code",
   "execution_count": 12,
   "outputs": [
    {
     "name": "stdout",
     "output_type": "stream",
     "text": [
      "(1,) ('first',) {(1,)} set()\n",
      "(2,) ('second',) {(1,), (2,)} {('first',)}\n",
      "(3,) ('thrid',) {(1,), (2,), (3,)} {('first',), ('second',)}\n",
      "(1, 1) (2, 3) {(1, 1)} set()\n",
      "(1, 2) (3, 1) {(1, 1), (1, 2)} {(2, 3)}\n",
      "(2, 2) (3, 3) {(1, 1), (1, 2), (2, 2)} {(2, 3), (3, 1)}\n",
      "(2, 1) (3, 2) {(1, 1), (1, 2), (2, 1), (2, 2)} {(2, 3), (3, 3), (3, 1)}\n",
      "{(2, 'second'), (1, 'first'), (3, 'thrid')}\n",
      "(4,) ('fourth',) {(1,), (2,), (3,), (4,)} {('first',), ('second',), ('thrid',)}\n",
      "(5,) ('first',) {(2,), (5,), (4,), (1,), (3,)} {('first',), ('fourth',), ('second',), ('thrid',)}\n",
      "(3, 2) (1, 3) {(1, 2), (2, 1), (1, 1), (2, 2), (3, 2)} {(2, 3), (3, 2), (3, 3), (3, 1)}\n",
      "(5, 4) (3, 2) {(1, 2), (2, 1), (1, 1), (5, 4), (2, 2), (3, 2)} {(3, 1), (2, 3), (3, 3), (3, 2), (1, 3)}\n"
     ]
    },
    {
     "ename": "ValueError",
     "evalue": "Key",
     "output_type": "error",
     "traceback": [
      "\u001B[0;31m---------------------------------------------------------------------------\u001B[0m",
      "\u001B[0;31mValueError\u001B[0m                                Traceback (most recent call last)",
      "Input \u001B[0;32mIn [12]\u001B[0m, in \u001B[0;36m<cell line: 90>\u001B[0;34m()\u001B[0m\n\u001B[1;32m     88\u001B[0m x \u001B[38;5;241m=\u001B[39m KeyRelationTest()\n\u001B[1;32m     89\u001B[0m x\u001B[38;5;241m.\u001B[39msetUp()\n\u001B[0;32m---> 90\u001B[0m \u001B[43mx\u001B[49m\u001B[38;5;241;43m.\u001B[39;49m\u001B[43mtest_size\u001B[49m\u001B[43m(\u001B[49m\u001B[43m)\u001B[49m\n",
      "Input \u001B[0;32mIn [12]\u001B[0m, in \u001B[0;36mKeyRelationTest.test_size\u001B[0;34m(self)\u001B[0m\n\u001B[1;32m     56\u001B[0m \u001B[38;5;28mself\u001B[39m\u001B[38;5;241m.\u001B[39massertEqual(\u001B[38;5;28mlen\u001B[39m(\u001B[38;5;28mself\u001B[39m\u001B[38;5;241m.\u001B[39mbar), \u001B[38;5;241m5\u001B[39m)  \u001B[38;5;66;03m# should not add tuple\u001B[39;00m\n\u001B[1;32m     58\u001B[0m \u001B[38;5;66;03m#check valid insert\u001B[39;00m\n\u001B[0;32m---> 59\u001B[0m \u001B[38;5;28;43mself\u001B[39;49m\u001B[38;5;241;43m.\u001B[39;49m\u001B[43mbar\u001B[49m\u001B[38;5;241;43m.\u001B[39;49m\u001B[43madd_tuple\u001B[49m\u001B[43m(\u001B[49m\u001B[43m \u001B[49m\u001B[43m(\u001B[49m\u001B[38;5;241;43m5\u001B[39;49m\u001B[43m,\u001B[49m\u001B[43m \u001B[49m\u001B[38;5;241;43m3\u001B[39;49m\u001B[43m,\u001B[49m\u001B[43m \u001B[49m\u001B[38;5;241;43m4\u001B[39;49m\u001B[43m,\u001B[49m\u001B[43m \u001B[49m\u001B[38;5;241;43m4\u001B[39;49m\u001B[43m)\u001B[49m\u001B[43m \u001B[49m\u001B[43m)\u001B[49m\n\u001B[1;32m     60\u001B[0m \u001B[38;5;28mself\u001B[39m\u001B[38;5;241m.\u001B[39massertEqual(\u001B[38;5;28mlen\u001B[39m(\u001B[38;5;28mself\u001B[39m\u001B[38;5;241m.\u001B[39mbar), \u001B[38;5;241m6\u001B[39m)\n\u001B[1;32m     61\u001B[0m \u001B[38;5;28;01mwith\u001B[39;00m \u001B[38;5;28mself\u001B[39m\u001B[38;5;241m.\u001B[39massertRaises(\u001B[38;5;167;01mValueError\u001B[39;00m):\n",
      "Input \u001B[0;32mIn [10]\u001B[0m, in \u001B[0;36mKeyRelation.add_tuple\u001B[0;34m(self, tup)\u001B[0m\n\u001B[1;32m     37\u001B[0m curr_key \u001B[38;5;241m=\u001B[39m \u001B[38;5;28mtuple\u001B[39m(\u001B[38;5;28mmap\u001B[39m(\u001B[38;5;28;01mlambda\u001B[39;00m x: tup[x], \u001B[38;5;28mself\u001B[39m\u001B[38;5;241m.\u001B[39mkey_idx))\n\u001B[1;32m     38\u001B[0m \u001B[38;5;28;01mif\u001B[39;00m curr_key \u001B[38;5;129;01min\u001B[39;00m \u001B[38;5;28mself\u001B[39m\u001B[38;5;241m.\u001B[39mkeys:\n\u001B[0;32m---> 39\u001B[0m     \u001B[38;5;28;01mraise\u001B[39;00m \u001B[38;5;167;01mValueError\u001B[39;00m(\u001B[38;5;124m\"\u001B[39m\u001B[38;5;124mKey\u001B[39m\u001B[38;5;124m\"\u001B[39m)\n\u001B[1;32m     40\u001B[0m \u001B[38;5;28mself\u001B[39m\u001B[38;5;241m.\u001B[39mkeys\u001B[38;5;241m.\u001B[39madd(curr_key)\n\u001B[1;32m     42\u001B[0m curr_unique \u001B[38;5;241m=\u001B[39m \u001B[38;5;28mtuple\u001B[39m(\u001B[38;5;28mmap\u001B[39m(\u001B[38;5;28;01mlambda\u001B[39;00m x: tup[x], \u001B[38;5;28mself\u001B[39m\u001B[38;5;241m.\u001B[39munique_idx))\n",
      "\u001B[0;31mValueError\u001B[0m: Key"
     ]
    }
   ],
   "source": [
    "class KeyRelationTest(unittest.TestCase):\n",
    "    \n",
    "    def setUp(self):\n",
    "        keys = ['id']\n",
    "        uniques = ['name']\n",
    "        self.foo = KeyRelation('foo', [('id', int), ('name', str)], keys, uniques)\n",
    "        self.foo.add_tuple( (1, 'first') )\n",
    "        self.foo.add_tuple( (2, 'second') )\n",
    "        self.foo.add_tuple( (3, 'thrid') )\n",
    "        \n",
    "        keys = ['a', 'c']\n",
    "        uniques =['b', 'd']\n",
    "        self.bar = KeyRelation('bar', [('a', int), ('b', int), ('c', int), ('d', int)], keys, uniques)\n",
    "        self.bar.add_tuple( (1, 2, 1, 3) )\n",
    "        self.bar.add_tuple( (1, 3, 2, 1) )\n",
    "        self.bar.add_tuple( (2, 3, 2, 3) )\n",
    "        self.bar.add_tuple( (2, 3, 1, 2) )\n",
    "        \n",
    "    def test_size(self):\n",
    "        # foo should contain 3 tuples\n",
    "        print(self.foo.tuples)\n",
    "        self.assertEqual(len(self.foo), 3)\n",
    "        # check valid insert\n",
    "        self.foo.add_tuple( (4, 'fourth') )\n",
    "        self.assertEqual(len(self.foo), 4)\n",
    "        # check duplicate key insert\n",
    "        with self.assertRaises(ValueError):\n",
    "            self.foo.add_tuple( (1, 'one') ) # should raise ValueError  \n",
    "        self.assertEqual(len(self.foo), 4)  # should not add tuple\n",
    "        # check duplicate tuple insert\n",
    "        with self.assertRaises(ValueError):\n",
    "            self.foo.add_tuple( (1,'first') )  #should raise ValueError\n",
    "        self.assertEqual(len(self.foo), 4)  # should not add tuple\n",
    "        #check duplicate unique insert\n",
    "        with self.assertRaises(ValueError):\n",
    "            self.foo.add_tuple((5, 'first'))\n",
    "        self.assertEqual(len(self.foo), 4)\n",
    "        \n",
    "        # bar should contain 4 tuples\n",
    "        self.assertEqual(len(self.bar), 4)\n",
    "        # check valid insert\n",
    "        self.bar.add_tuple( (3, 1, 2, 3) )\n",
    "        self.assertEqual(len(self.bar), 5)\n",
    "        # check duplicate key insert\n",
    "        with self.assertRaises(ValueError):\n",
    "            self.bar.add_tuple( (1, 3, 1, 2) )  # should raise ValueError\n",
    "        self.assertEqual(len(self.bar), 5)  # should not add tuple\n",
    "        # check duplicate tuple insert\n",
    "        with self.assertRaises(ValueError):\n",
    "            self.bar.add_tuple( (2, 3, 1, 2) )  # should raise ValueError\n",
    "        self.assertEqual(len(self.bar), 5)  # should not add tuple\n",
    "        \n",
    "        #check duplicate unique insert\n",
    "        with self.assertRaises(ValueError):\n",
    "            self.bar.add_tuple( (5, 3, 4, 2) ) # should raise ValueError\n",
    "        self.assertEqual(len(self.bar), 5)  # should not add tuple\n",
    "        \n",
    "        #check valid insert\n",
    "        self.bar.add_tuple( (5, 3, 4, 4) )\n",
    "        self.assertEqual(len(self.bar), 6)\n",
    "        with self.assertRaises(ValueError):\n",
    "            self.bar.add_tuple( (5, 3, 4, 4) )  # should raise ValueError           \n",
    "        \n",
    "    \n",
    "    def test_schema(self):\n",
    "        # incorrectl<y typed tuple\n",
    "        with self.assertRaises(AssertionError):\n",
    "            self.foo.add_tuple( ('seventh', 7) )\n",
    "        with self.assertRaises(AssertionError):\n",
    "            self.foo.add_tuple( (0.1, 'zero point first') )\n",
    "        # inccorectly sized tuples\n",
    "        with self.assertRaises(AssertionError):\n",
    "            self.foo.add_tuple( (42, 'oops', 12) )\n",
    "        with self.assertRaises(AssertionError):\n",
    "            self.foo.add_tuple( (42,) )\n",
    "        \n",
    "        # incorrectly typed tuple\n",
    "        with self.assertRaises(AssertionError):\n",
    "            self.bar.add_tuple( (0.1, 0.2, 0.3, 0.4) )\n",
    "        with self.assertRaises(AssertionError):\n",
    "            self.bar.add_tuple( ('1', '3', '2', '4') )\n",
    "        # incorrectly sized\n",
    "        with self.assertRaises(AssertionError):\n",
    "            self.bar.add_tuple( (1, 2, 4, 5, 6) )\n",
    "        with self.assertRaises(AssertionError):\n",
    "            self.bar.add_tuple( (1, 2, 4) )\n",
    "\n",
    "x = KeyRelationTest()\n",
    "x.setUp()\n",
    "x.test_size()"
   ],
   "metadata": {
    "collapsed": false,
    "pycharm": {
     "name": "#%%\n"
    }
   }
  },
  {
   "cell_type": "code",
   "execution_count": 13,
   "metadata": {
    "pycharm": {
     "name": "#%%\n"
    }
   },
   "outputs": [
    {
     "name": "stderr",
     "output_type": "stream",
     "text": [
      "test_schema (__main__.KeyRelationTest) ... ok\n",
      "test_size (__main__.KeyRelationTest) ... ERROR\n",
      "test_schema (__main__.RelationTest) ... ok\n",
      "test_size (__main__.RelationTest) ... ok\n",
      "\n",
      "======================================================================\n",
      "ERROR: test_size (__main__.KeyRelationTest)\n",
      "----------------------------------------------------------------------\n",
      "Traceback (most recent call last):\n",
      "  File \"/tmp/ipykernel_34051/947920738.py\", line 59, in test_size\n",
      "    self.bar.add_tuple( (5, 3, 4, 4) )\n",
      "  File \"/tmp/ipykernel_34051/2044191184.py\", line 39, in add_tuple\n",
      "    raise ValueError(\"Key\")\n",
      "ValueError: Key\n",
      "\n",
      "----------------------------------------------------------------------\n",
      "Ran 4 tests in 0.011s\n",
      "\n",
      "FAILED (errors=1)\n"
     ]
    },
    {
     "name": "stdout",
     "output_type": "stream",
     "text": [
      "(1,) ('first',) {(1,)} set()\n",
      "(2,) ('second',) {(1,), (2,)} {('first',)}\n",
      "(3,) ('thrid',) {(1,), (2,), (3,)} {('first',), ('second',)}\n",
      "(1, 1) (2, 3) {(1, 1)} set()\n",
      "(1, 2) (3, 1) {(1, 1), (1, 2)} {(2, 3)}\n",
      "(2, 2) (3, 3) {(1, 1), (1, 2), (2, 2)} {(2, 3), (3, 1)}\n",
      "(2, 1) (3, 2) {(1, 1), (1, 2), (2, 1), (2, 2)} {(2, 3), (3, 3), (3, 1)}\n",
      "(1,) ('first',) {(1,)} set()\n",
      "(2,) ('second',) {(1,), (2,)} {('first',)}\n",
      "(3,) ('thrid',) {(1,), (2,), (3,)} {('first',), ('second',)}\n",
      "(1, 1) (2, 3) {(1, 1)} set()\n",
      "(1, 2) (3, 1) {(1, 1), (1, 2)} {(2, 3)}\n",
      "(2, 2) (3, 3) {(1, 1), (1, 2), (2, 2)} {(2, 3), (3, 1)}\n",
      "(2, 1) (3, 2) {(1, 1), (1, 2), (2, 1), (2, 2)} {(2, 3), (3, 3), (3, 1)}\n",
      "{(2, 'second'), (1, 'first'), (3, 'thrid')}\n",
      "(4,) ('fourth',) {(1,), (2,), (3,), (4,)} {('first',), ('second',), ('thrid',)}\n",
      "(5,) ('first',) {(2,), (5,), (4,), (1,), (3,)} {('first',), ('fourth',), ('second',), ('thrid',)}\n",
      "(3, 2) (1, 3) {(1, 2), (2, 1), (1, 1), (2, 2), (3, 2)} {(2, 3), (3, 2), (3, 3), (3, 1)}\n",
      "(5, 4) (3, 2) {(1, 2), (2, 1), (1, 1), (5, 4), (2, 2), (3, 2)} {(3, 1), (2, 3), (3, 3), (3, 2), (1, 3)}\n"
     ]
    },
    {
     "data": {
      "text/plain": "<unittest.main.TestProgram at 0x7f339c3c03d0>"
     },
     "execution_count": 13,
     "metadata": {},
     "output_type": "execute_result"
    }
   ],
   "source": [
    "# Run the unit test without shutting down the jupyter kernel\n",
    "unittest.main(argv=['ignored', '-v'], verbosity=2, exit=False)"
   ]
  }
 ],
 "metadata": {
  "kernelspec": {
   "display_name": "Python 3 (ipykernel)",
   "language": "python",
   "name": "python3"
  },
  "language_info": {
   "codemirror_mode": {
    "name": "ipython",
    "version": 3
   },
   "file_extension": ".py",
   "mimetype": "text/x-python",
   "name": "python",
   "nbconvert_exporter": "python",
   "pygments_lexer": "ipython3",
   "version": "3.10.2"
  },
  "varInspector": {
   "cols": {
    "lenName": 16,
    "lenType": 16,
    "lenVar": 40
   },
   "kernels_config": {
    "python": {
     "delete_cmd_postfix": "",
     "delete_cmd_prefix": "del ",
     "library": "var_list.py",
     "varRefreshCmd": "print(var_dic_list())"
    },
    "r": {
     "delete_cmd_postfix": ") ",
     "delete_cmd_prefix": "rm(",
     "library": "var_list.r",
     "varRefreshCmd": "cat(var_dic_list()) "
    }
   },
   "types_to_exclude": [
    "module",
    "function",
    "builtin_function_or_method",
    "instance",
    "_Feature"
   ],
   "window_display": false
  }
 },
 "nbformat": 4,
 "nbformat_minor": 2
}