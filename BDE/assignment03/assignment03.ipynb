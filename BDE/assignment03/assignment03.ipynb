{
 "cells": [
  {
   "cell_type": "markdown",
   "metadata": {
    "pycharm": {
     "name": "#%% md\n"
    }
   },
   "source": [
    "# 3 Implementierung Co-Group-Join (5 Punkte)\n",
    "\n",
    "Copyright Jens Dittrich & Marcel Maltry, [Big Data Analytics Group](https://bigdata.uni-saarland.de/), [CC-BY-SA](https://creativecommons.org/licenses/by-sa/4.0/legalcode)\n"
   ]
  },
  {
   "cell_type": "code",
   "execution_count": 5,
   "metadata": {
    "pycharm": {
     "name": "#%%\n"
    }
   },
   "outputs": [],
   "source": [
    "from os import listdir\n",
    "from graphviz import Source\n",
    "\n",
    "from ra.relation import Relation\n",
    "from ra.operators_log import *\n",
    "from ra.operators_phys import *\n",
    "from ra.utils import load_csv"
   ]
  },
  {
   "cell_type": "markdown",
   "metadata": {
    "pycharm": {
     "name": "#%% md\n"
    }
   },
   "source": [
    "In the following, you should implement the Equi-Join operator in two steps:\n",
    "1. Complete the implementation of the class `Equi_Join`. This class extends `BinaryOperator` and represents the logical operator equi-join. In particular, the logical operator cannot be evaluated.\n",
    "2. Complete the implementation of the class `Co_Group_Join`. This class extends `Equi_Join` and adds evaluation functionality, i.e. it is a cogroup-based implemention of a physical operator.\n",
    "\n",
    "Submit both the cell containing `class Equi_Join` and the cell containing `class Co_Group_Join` in a text document.\n",
    "\n",
    "\n",
    "## `Equi_Join`\n",
    "\n",
    "Complete the following method:\n",
    "* `get_schema()`: Returns the schema of the operator based on its childrens' schemas. Here you have to return the concatenation of the left and right schema."
   ]
  },
  {
   "cell_type": "code",
   "execution_count": 11,
   "metadata": {
    "pycharm": {
     "name": "#%%\n"
    }
   },
   "outputs": [],
   "source": [
    "# Exercise\n",
    "# Submit this code cell!\n",
    "class Equi_Join(BinaryOperator):\n",
    "    \"\"\"The equi join\n",
    "\n",
    "    Attributes:\n",
    "        l_input   (:obj: `Operator`): The left input to the equi-join operator.\n",
    "        r_input   (:obj: `Operator`): The right input to the equi-join operator.\n",
    "        l_attrs:  (:obj: `String`): A comma-separated list of left attributes that should be equal.\n",
    "        r_attrs:  (:obj: `String`): A comma-separated list of right attributes that should be equal. \n",
    "    \"\"\"\n",
    "    def __init__(self, l_input, r_input, l_attrs, r_attrs):\n",
    "        # call super constructor, stores child operators\n",
    "        super().__init__(l_input, r_input) \n",
    "        self.l_attrs = str_to_list(l_attrs)\n",
    "        self.r_attrs = str_to_list(r_attrs)\n",
    "        # set color and style node for dot graphs\n",
    "        self.set_dot_attrs({'color':'#FFFC79', 'style': 'filled'})\n",
    "\n",
    "    def __str__(self):\n",
    "        \"\"\"Returns a string representation of the operator tree rooted in this operator.\"\"\"\n",
    "        return f'({self.l_input}) ⨝_{{[{\", \".join(self.l_attrs)}]}},{{[{\", \".join(self.r_attrs)}]}} ({self.r_input})'\n",
    "\n",
    "    def get_schema(self):\n",
    "        \"\"\"Returns the schema of the operator based on its childrens' schemas.\"\"\"\n",
    "        l_child_schema = self.l_input.get_schema()\n",
    "        r_child_schema = self.r_input.get_schema()\n",
    "\n",
    "        # integrity check (equally named attributes are not allowed here)\n",
    "        l_attributes = [a for a, _ in l_child_schema]\n",
    "        r_attributes = [a for a, _ in r_child_schema]\n",
    "        assert len(set(l_attributes) & set(r_attributes)) == 0\n",
    "        return  l_child_schema + r_child_schema\n",
    "\n",
    "    def _dot(self, graph, prefix, caption='⨝_{{[{}]}},{{[{}]}}'):\n",
    "        \"\"\"Adds a node for the operator into the graph and returns the node's name.\"\"\"\n",
    "        # Define unique name within the graph\n",
    "        node_name = prefix + 'Equi_Join'\n",
    "        # The caption is the label already\n",
    "        node_label = caption.format(', '.join(self.l_attrs), ', '.join(self.r_attrs))\n",
    "        # Call `_dot_helper` to insert new node into graph\n",
    "        self._dot_helper(graph, prefix, node_name, node_label)\n",
    "        # Return node's name\n",
    "        return node_name"
   ]
  },
  {
   "cell_type": "markdown",
   "metadata": {
    "pycharm": {
     "name": "#%% md\n"
    }
   },
   "source": [
    "### Schema and Graph check\n",
    "\n",
    "Next, we call the methods that you just implemented. Consider the comments to see whether your implementation produces the expected results."
   ]
  },
  {
   "cell_type": "code",
   "execution_count": 12,
   "metadata": {
    "pycharm": {
     "name": "#%%\n"
    }
   },
   "outputs": [
    {
     "name": "stdout",
     "output_type": "stream",
     "text": [
      "(foo) ⨝_{[fid]},{[bid]} (bar)\n"
     ]
    }
   ],
   "source": [
    "foo = Relation('foo', [('fid', int), ('name', str), ('cid', int), ('color', str)])\n",
    "rel_foo = LeafRelation(foo)\n",
    "\n",
    "bar = Relation('bar', [('bid', int), ('shape', str)])\n",
    "rel_bar = LeafRelation(bar)\n",
    "\n",
    "foo_bar = Equi_Join(rel_foo, rel_bar, 'fid', 'bid')\n",
    "print(foo_bar)"
   ]
  },
  {
   "cell_type": "code",
   "execution_count": 13,
   "metadata": {
    "pycharm": {
     "name": "#%%\n"
    }
   },
   "outputs": [
    {
     "name": "stdout",
     "output_type": "stream",
     "text": [
      "[('fid', <class 'int'>), ('name', <class 'str'>), ('cid', <class 'int'>), ('color', <class 'str'>), ('bid', <class 'int'>), ('shape', <class 'str'>)]\n"
     ]
    }
   ],
   "source": [
    "schema = foo_bar.get_schema()\n",
    "# This should print the operator's schema:\n",
    "# [('fid', <class 'int'>), ('name', <class 'str'>), ('cid', <class 'int'>), ('color', <class 'str'>), \n",
    "# ('bid', <class 'int'>), ('shape', <class 'str'>)]\n",
    "print(schema if schema is not None else \"TODO: Implement get_schema().\")"
   ]
  },
  {
   "cell_type": "code",
   "execution_count": 14,
   "metadata": {
    "pycharm": {
     "name": "#%%\n"
    }
   },
   "outputs": [
    {
     "data": {
      "image/svg+xml": "<?xml version=\"1.0\" encoding=\"UTF-8\" standalone=\"no\"?>\n<!DOCTYPE svg PUBLIC \"-//W3C//DTD SVG 1.1//EN\"\n \"http://www.w3.org/Graphics/SVG/1.1/DTD/svg11.dtd\">\n<!-- Generated by graphviz version 3.0.0 (0)\n -->\n<!-- Pages: 1 -->\n<svg width=\"186pt\" height=\"116pt\"\n viewBox=\"0.00 0.00 186.08 116.00\" xmlns=\"http://www.w3.org/2000/svg\" xmlns:xlink=\"http://www.w3.org/1999/xlink\">\n<g id=\"graph0\" class=\"graph\" transform=\"scale(1 1) rotate(0) translate(4 112)\">\n<polygon fill=\"white\" stroke=\"transparent\" points=\"-4,4 -4,-112 182.08,-112 182.08,4 -4,4\"/>\n<!-- Equi_Join -->\n<g id=\"node1\" class=\"node\">\n<title>Equi_Join</title>\n<ellipse fill=\"#fffc79\" stroke=\"#fffc79\" cx=\"89.04\" cy=\"-90\" rx=\"89.08\" ry=\"18\"/>\n<text text-anchor=\"middle\" x=\"89.04\" y=\"-86.3\" font-family=\"Times,serif\" font-size=\"14.00\">⨝_{[fid]},{[bid]}</text>\n</g>\n<!-- LRel -->\n<g id=\"node2\" class=\"node\">\n<title>LRel</title>\n<ellipse fill=\"none\" stroke=\"black\" cx=\"53.04\" cy=\"-18\" rx=\"27\" ry=\"18\"/>\n<text text-anchor=\"middle\" x=\"53.04\" y=\"-14.3\" font-family=\"Times,serif\" font-size=\"14.00\">foo</text>\n</g>\n<!-- LRel&#45;&gt;Equi_Join -->\n<g id=\"edge1\" class=\"edge\">\n<title>LRel&#45;&gt;Equi_Join</title>\n<path fill=\"none\" stroke=\"black\" d=\"M61.39,-35.24C65.58,-43.39 70.77,-53.47 75.51,-62.69\"/>\n<polygon fill=\"black\" stroke=\"black\" points=\"72.55,-64.58 80.24,-71.88 78.77,-61.38 72.55,-64.58\"/>\n</g>\n<!-- RRel -->\n<g id=\"node3\" class=\"node\">\n<title>RRel</title>\n<ellipse fill=\"none\" stroke=\"black\" cx=\"125.04\" cy=\"-18\" rx=\"27\" ry=\"18\"/>\n<text text-anchor=\"middle\" x=\"125.04\" y=\"-14.3\" font-family=\"Times,serif\" font-size=\"14.00\">bar</text>\n</g>\n<!-- RRel&#45;&gt;Equi_Join -->\n<g id=\"edge2\" class=\"edge\">\n<title>RRel&#45;&gt;Equi_Join</title>\n<path fill=\"none\" stroke=\"black\" d=\"M116.69,-35.24C112.5,-43.39 107.31,-53.47 102.57,-62.69\"/>\n<polygon fill=\"black\" stroke=\"black\" points=\"99.31,-61.38 97.85,-71.88 105.53,-64.58 99.31,-61.38\"/>\n</g>\n</g>\n</svg>\n",
      "text/plain": "<graphviz.graphs.Digraph at 0x7f0ba1dd1f30>"
     },
     "execution_count": 14,
     "metadata": {},
     "output_type": "execute_result"
    }
   ],
   "source": [
    "graph = foo_bar.get_graph()\n",
    "graph"
   ]
  },
  {
   "cell_type": "markdown",
   "metadata": {
    "pycharm": {
     "name": "#%% md\n"
    }
   },
   "source": [
    "## `Co_Group_Join`\n",
    "\n",
    "Implement the following method:\n",
    "* `evaluate()`: Returns a relation object containing the operators results. Make sure that your implementation is in O(n) where n is the number of result tuples of `l_input` and `r_input`. This runtime requirement only holds if the join is done over the key attributes of both input relations. Your implementation still has to cover all cases. \n",
    "\n",
    "**Implementation Steps**:\n",
    "1. Recursively compute the resulting relations of the left and the right input.\n",
    "2. Create a new Relation for the result tuples.\n",
    "3. Construct the Co-Groups.\n",
    "4. Calculate the resulting join by computing the cross product for each for the partition tuples.\n",
    "\n",
    "**Hints**: \n",
    "- You can create a new Relation by calling `Relation(name, schema)`\n",
    "- In order to receive the list of tuples that are in a Relation `R`, you can call `R.tuples`\n",
    "- You can add a tuple `x` to a relation `R` by calling `R.add_tuple(x)`\n",
    "- If needed, you can also inspect the implementations of other operators in 'ra.operators_phys'."
   ]
  },
  {
   "cell_type": "code",
   "execution_count": 15,
   "metadata": {
    "pycharm": {
     "name": "#%%\n"
    }
   },
   "outputs": [],
   "source": [
    "# Exercise\n",
    "# Submit this code cell!\n",
    "class Co_Group_Join(Equi_Join):\n",
    "    def _dot(self, graph, prefix):\n",
    "        \"\"\"Adds a node for the operator into the graph and returns the node's name.\"\"\"\n",
    "        return super()._dot(graph, prefix, \"⨝_CoGroupBased{{[{}]}},{{[{}]}}\")\n",
    "    \n",
    "    def __str__(self):\n",
    "        \"\"\"Returns a string representation of the operator tree rooted in this operator.\"\"\"\n",
    "        return f'({self.l_input}) ⨝_CoGroupBased{{[{\", \".join(self.l_attrs)}]}},{{[{\", \".join(self.r_attrs)}]}} ({self.r_input})'\n",
    "    \n",
    "    def evaluate(self):\n",
    "        for i in self.l_attrs:\n",
    "            print(self.l_input.get_attribute_idx())\n",
    "        for i in self.l_input:\n",
    "            self.l_input\n",
    "        \"\"\"Returns a relation object containing the operators results.\"\"\"\n",
    "        # Add your code here!\n",
    "        # ...\n",
    "        # Compute the operator's results. Do not use any other operators as subroutines (except cross product)!\n",
    "        # Make sure that your implementation is in O(n) where n is the number of result\n",
    "        # tuples of l_input and r_input (assuming a join over the key attributes of both input relations).\n",
    "        pass"
   ]
  },
  {
   "cell_type": "markdown",
   "metadata": {
    "pycharm": {
     "name": "#%% md\n"
    }
   },
   "source": [
    "### Check schema and graph\n",
    "\n",
    "Next, we call the methods that you just implemented. Consider the comments to see whether your implementation produces the expected results."
   ]
  },
  {
   "cell_type": "code",
   "execution_count": 16,
   "metadata": {
    "pycharm": {
     "name": "#%%\n"
    }
   },
   "outputs": [
    {
     "name": "stdout",
     "output_type": "stream",
     "text": [
      "(foo) ⨝_CoGroupBased{[fid]},{[bid]} (bar)\n"
     ]
    }
   ],
   "source": [
    "foo_bar = Co_Group_Join(rel_foo, rel_bar, \"fid\", \"bid\")\n",
    "print(foo_bar)"
   ]
  },
  {
   "cell_type": "code",
   "execution_count": 17,
   "metadata": {
    "pycharm": {
     "name": "#%%\n"
    }
   },
   "outputs": [
    {
     "data": {
      "image/svg+xml": "<?xml version=\"1.0\" encoding=\"UTF-8\" standalone=\"no\"?>\n<!DOCTYPE svg PUBLIC \"-//W3C//DTD SVG 1.1//EN\"\n \"http://www.w3.org/Graphics/SVG/1.1/DTD/svg11.dtd\">\n<!-- Generated by graphviz version 3.0.0 (0)\n -->\n<!-- Pages: 1 -->\n<svg width=\"325pt\" height=\"116pt\"\n viewBox=\"0.00 0.00 325.17 116.00\" xmlns=\"http://www.w3.org/2000/svg\" xmlns:xlink=\"http://www.w3.org/1999/xlink\">\n<g id=\"graph0\" class=\"graph\" transform=\"scale(1 1) rotate(0) translate(4 112)\">\n<polygon fill=\"white\" stroke=\"transparent\" points=\"-4,4 -4,-112 321.17,-112 321.17,4 -4,4\"/>\n<!-- Equi_Join -->\n<g id=\"node1\" class=\"node\">\n<title>Equi_Join</title>\n<ellipse fill=\"#fffc79\" stroke=\"#fffc79\" cx=\"158.59\" cy=\"-90\" rx=\"158.67\" ry=\"18\"/>\n<text text-anchor=\"middle\" x=\"158.59\" y=\"-86.3\" font-family=\"Times,serif\" font-size=\"14.00\">⨝_CoGroupBased{[fid]},{[bid]}</text>\n</g>\n<!-- LRel -->\n<g id=\"node2\" class=\"node\">\n<title>LRel</title>\n<ellipse fill=\"none\" stroke=\"black\" cx=\"122.59\" cy=\"-18\" rx=\"27\" ry=\"18\"/>\n<text text-anchor=\"middle\" x=\"122.59\" y=\"-14.3\" font-family=\"Times,serif\" font-size=\"14.00\">foo</text>\n</g>\n<!-- LRel&#45;&gt;Equi_Join -->\n<g id=\"edge1\" class=\"edge\">\n<title>LRel&#45;&gt;Equi_Join</title>\n<path fill=\"none\" stroke=\"black\" d=\"M130.94,-35.24C135.13,-43.39 140.31,-53.47 145.06,-62.69\"/>\n<polygon fill=\"black\" stroke=\"black\" points=\"142.09,-64.58 149.78,-71.88 148.32,-61.38 142.09,-64.58\"/>\n</g>\n<!-- RRel -->\n<g id=\"node3\" class=\"node\">\n<title>RRel</title>\n<ellipse fill=\"none\" stroke=\"black\" cx=\"194.59\" cy=\"-18\" rx=\"27\" ry=\"18\"/>\n<text text-anchor=\"middle\" x=\"194.59\" y=\"-14.3\" font-family=\"Times,serif\" font-size=\"14.00\">bar</text>\n</g>\n<!-- RRel&#45;&gt;Equi_Join -->\n<g id=\"edge2\" class=\"edge\">\n<title>RRel&#45;&gt;Equi_Join</title>\n<path fill=\"none\" stroke=\"black\" d=\"M186.24,-35.24C182.04,-43.39 176.86,-53.47 172.12,-62.69\"/>\n<polygon fill=\"black\" stroke=\"black\" points=\"168.85,-61.38 167.39,-71.88 175.08,-64.58 168.85,-61.38\"/>\n</g>\n</g>\n</svg>\n",
      "text/plain": "<graphviz.graphs.Digraph at 0x7f0ba11e10f0>"
     },
     "execution_count": 17,
     "metadata": {},
     "output_type": "execute_result"
    }
   ],
   "source": [
    "graph = foo_bar.get_graph()\n",
    "# This should display the operator tree. The tree looks similar to the one above except that the label should\n",
    "# contain \"CoGroupBased\".\n",
    "graph"
   ]
  },
  {
   "cell_type": "markdown",
   "metadata": {
    "pycharm": {
     "name": "#%% md\n"
    }
   },
   "source": [
    "## Testing\n",
    "\n",
    "Finally, the unit test below helps you test whether your implementation of `evaluate()` works on some small examples. Note that this unit test only checks functional correctness. In particular, it does not check whether your implementation of `evaluate()` performs evaluation in O(n)."
   ]
  },
  {
   "cell_type": "code",
   "execution_count": 18,
   "metadata": {
    "pycharm": {
     "name": "#%%\n"
    }
   },
   "outputs": [],
   "source": [
    "import unittest\n",
    "\n",
    "class EquiJoinTest(unittest.TestCase):\n",
    "    \n",
    "    def test_evaluate(self):\n",
    "        # set up two relations to join\n",
    "        foo = Relation('foo', [('fid', int), ('name', str), ('bar_id', int)])\n",
    "        foo.add_tuple( (1, 'first',  3) )\n",
    "        foo.add_tuple( (2, 'second', 2) )\n",
    "        foo.add_tuple( (3, 'third',  1) )\n",
    "        foo.add_tuple( (4, 'fourth', 1) )\n",
    "        rel_foo = LeafRelation(foo)\n",
    "        \n",
    "        bar = Relation('bar', [('bid', int), ('string', str), ('attr', int)])\n",
    "        bar.add_tuple( (1, 'fourth',  42) )\n",
    "        bar.add_tuple( (2, 'second',  99) )\n",
    "        bar.add_tuple( (3, 'first',    0) )\n",
    "        rel_bar = LeafRelation(bar)\n",
    "        \n",
    "        # join name=string\n",
    "        with self.subTest(msg='name=string'):\n",
    "            l_attrs='name'\n",
    "            r_attrs='string'\n",
    "            eq = Co_Group_Join(rel_foo, rel_bar, l_attrs, r_attrs)\n",
    "            res = eq.evaluate()\n",
    "            \n",
    "            self.assertEqual(len(res), 3)  # result contains 2tuples\n",
    "            self.assertEqual(len(list(res.tuples)[0]), 6)  # result tuples have 6 attributes\n",
    "            self.assertTrue((2, 'second', 2, 2, 'second', 99) in res.tuples)\n",
    "            self.assertTrue((1, 'first',  3, 3, 'first',   0) in res.tuples)\n",
    "            self.assertTrue((4, 'fourth', 1, 1, 'fourth', 42) in res.tuples)\n",
    "            \n",
    "        # join bar_id=bid\n",
    "        with self.subTest(msg='bar_id=bid'):\n",
    "            l_attrs='bar_id'\n",
    "            r_attrs='bid'\n",
    "            eq = Co_Group_Join(rel_foo, rel_bar, l_attrs, r_attrs)\n",
    "            res = eq.evaluate()\n",
    "        \n",
    "            self.assertEqual(len(res), 4)  # result contains 4 tuples\n",
    "            self.assertEqual(len(list(res.tuples)[0]), 6)  # result tuples have 6 attributes\n",
    "            self.assertTrue((1, 'first',  3, 3, 'first',   0) in res.tuples)\n",
    "            self.assertTrue((2, 'second', 2, 2, 'second', 99) in res.tuples)\n",
    "            self.assertTrue((3, 'third',  1, 1, 'fourth', 42) in res.tuples)\n",
    "            self.assertTrue((4, 'fourth', 1, 1, 'fourth', 42) in res.tuples)\n",
    "        \n",
    "        # join bar_id=bid and name=string\n",
    "        with self.subTest(msg='bar_id=bid and name=string'):\n",
    "            l_attrs='bar_id, name'\n",
    "            r_attrs='bid, string'\n",
    "            eq = Co_Group_Join(rel_foo, rel_bar, l_attrs, r_attrs)\n",
    "            res = eq.evaluate()\n",
    "            \n",
    "            self.assertEqual(len(res), 3)  # result contains 2tuples\n",
    "            self.assertEqual(len(list(res.tuples)[0]), 6)  # result tuples have 6 attributes\n",
    "            self.assertTrue((1, 'first',  3, 3, 'first',   0) in res.tuples)\n",
    "            self.assertTrue((2, 'second', 2, 2, 'second', 99) in res.tuples)\n",
    "            self.assertTrue((4, 'fourth', 1, 1, 'fourth', 42) in res.tuples)"
   ]
  },
  {
   "cell_type": "code",
   "execution_count": null,
   "metadata": {
    "pycharm": {
     "name": "#%%\n"
    }
   },
   "outputs": [],
   "source": [
    "# Run the unit test without shutting down the jupyter kernel\n",
    "unittest.main(argv=['ignored', '-v'], verbosity=2, exit=False)"
   ]
  }
 ],
 "metadata": {
  "kernelspec": {
   "display_name": "Python 3 (ipykernel)",
   "language": "python",
   "name": "python3"
  },
  "language_info": {
   "codemirror_mode": {
    "name": "ipython",
    "version": 3
   },
   "file_extension": ".py",
   "mimetype": "text/x-python",
   "name": "python",
   "nbconvert_exporter": "python",
   "pygments_lexer": "ipython3",
   "version": "3.10.4"
  },
  "varInspector": {
   "cols": {
    "lenName": 16,
    "lenType": 16,
    "lenVar": 40
   },
   "kernels_config": {
    "python": {
     "delete_cmd_postfix": "",
     "delete_cmd_prefix": "del ",
     "library": "var_list.py",
     "varRefreshCmd": "print(var_dic_list())"
    },
    "r": {
     "delete_cmd_postfix": ") ",
     "delete_cmd_prefix": "rm(",
     "library": "var_list.r",
     "varRefreshCmd": "cat(var_dic_list()) "
    }
   },
   "types_to_exclude": [
    "module",
    "function",
    "builtin_function_or_method",
    "instance",
    "_Feature"
   ],
   "window_display": false
  }
 },
 "nbformat": 4,
 "nbformat_minor": 2
}