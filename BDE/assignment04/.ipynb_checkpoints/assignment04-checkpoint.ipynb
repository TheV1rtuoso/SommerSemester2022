{
 "cells": [
  {
   "cell_type": "markdown",
   "metadata": {
    "pycharm": {
     "name": "#%% md\n"
    }
   },
   "source": [
    "## 4 NSA und SQL (7 Punkte)\n",
    "Copyright Jens Dittrich & Christian Schön, [Big Data Analytics Group](https://bigdata.uni-saarland.de/), [CC-BY-SA](https://creativecommons.org/licenses/by-sa/4.0/legalcode)"
   ]
  },
  {
   "cell_type": "markdown",
   "metadata": {
    "pycharm": {
     "name": "#%% md\n"
    }
   },
   "source": [
    "## Requirements\n",
    "\n",
    "This notebook is based on the sqlite3-kernel by Andrew Brownan which is [available on GitHub](https://github.com/brownan/sqlite3-kernel). As the kernel is based on the bash shell, it will only run on Unix systems, but not on Windows.\n",
    "\n",
    "The easiest way to use this notebook is to use our `Vagrantfile` as explained [here](https://github.com/BigDataAnalyticsGroup/vagrant-bde).\n",
    "\n",
    "Alternatively, if you want to install the sqlite kernel yourself, follow these steps:\n",
    "1. Download the repository as zip file or clone it using git, if necessary unpack the archive.\n",
    "2. If you are using a virtual machine, copy the folder to a location accessible by the virtual machine, e.g. a shared folder. Run your virtual machine and if necessary start your python environment.\n",
    "3. Move to the folder containing the kernel and execute the following commands:\n",
    "  - python setup.py install\n",
    "  - python -m sqlite3_kernel.install\n",
    "  \n",
    "If the kernel was successfully installed, you should now be able to start jupyter notebook and select \"Sqlite3\" as notebook type for new notebooks. \n",
    "\n",
    "In case of problems, you can delete the kernel using the following steps:\n",
    "1. Look up the kernel name by executing the command: jupyter kernelspec list\n",
    "2. Delete the kernel: jupyter kernelspec uninstall kernel_name"
   ]
  },
  {
   "cell_type": "markdown",
   "metadata": {
    "pycharm": {
     "name": "#%% md\n"
    }
   },
   "source": [
    "## Load Data\n",
    "\n",
    "Before we can start analyzing the data, we first have to load data from the corresponding csv files into an appropriate database schema. This is fake data."
   ]
  },
  {
   "cell_type": "code",
   "execution_count": 2,
   "metadata": {
    "pycharm": {
     "name": "#%%\n"
    }
   },
   "outputs": [
    {
     "name": "stdout",
     "output_type": "stream",
     "text": [
      "\u001b[?2004l\r",
      "\u001b[?2004h\u001b[?2004l\r",
      "\u001b[?2004h\u001b[?2004l\r",
      "\u001b[?2004h\u001b[?2004l\r",
      "\u001b[?2004h\u001b[?2004l\r",
      "\u001b[?2004h\u001b[?2004l\r",
      "\u001b[?2004h\u001b[?2004l\r",
      "\u001b[?2004h\u001b[?2004l\r",
      "\u001b[?2004h\u001b[?2004l\r",
      "\u001b[?2004h\u001b[?2004l\r",
      "\u001b[?2004h\u001b[?2004l\r",
      "\u001b[?2004h\u001b[?2004l\r",
      "\u001b[?2004h\u001b[?2004l\r",
      "\u001b[?2004h\u001b[?2004l\r",
      "\u001b[?2004h\u001b[?2004l\r",
      "\u001b[?2004h\u001b[?2004l\r",
      "\u001b[?2004h\u001b[?2004l\r",
      "\u001b[?2004h\u001b[?2004l\r",
      "\u001b[?2004h\u001b[?2004l\r",
      "\u001b[?2004h\u001b[?2004l\r",
      "\u001b[?2004h\u001b[?2004l\r",
      "\u001b[?2004h\u001b[?2004l\r",
      "\u001b[?2004h\u001b[?2004l\r",
      "\u001b[?2004h\u001b[?2004l\r",
      "\u001b[?2004h\u001b[?2004l\r",
      "\u001b[?2004h\u001b[?2004l\r",
      "\u001b[?2004h\u001b[?2004l\r",
      "\u001b[?2004h\u001b[?2004l\r",
      "\u001b[?2004h\u001b[?2004l\r",
      "\u001b[?2004h\u001b[?2004l\r",
      "\u001b[?2004h\u001b[?2004l\r",
      "\u001b[?2004h\u001b[?2004l\r",
      "\u001b[?2004h\u001b[?2004l\r",
      "\u001b[?2004h\u001b[?2004l\r",
      "\u001b[?2004h\u001b[?2004l\r",
      "\u001b[?2004h\u001b[?2004l\r",
      "\u001b[?2004h\u001b[?2004l\r",
      "\u001b[?2004h\u001b[?2004l\r",
      "\u001b[?2004h\u001b[?2004l\r",
      "\u001b[?2004h\u001b[?2004l\r",
      "\u001b[?2004h\u001b[?2004l\r",
      "\u001b[?2004h\u001b[?2004l\r",
      "\u001b[?2004h\u001b[?2004l\r",
      "\u001b[?2004h\u001b[?2004l\r",
      "\u001b[?2004h\u001b[?2004l\r",
      "\u001b[?2004h\u001b[?2004l\r",
      "\u001b[?2004h\u001b[?2004l\r",
      "\u001b[?2004h\u001b[?2004l\r",
      "\u001b[?2004h\u001b[?2004l\r",
      "\u001b[?2004h\u001b[?2004l\r",
      "\u001b[?2004h\u001b[?2004l\r",
      "\u001b[?2004h\u001b[?2004l\r",
      "\u001b[?2004h\u001b[?2004l\r",
      "\u001b[?2004h\u001b[?2004l\r",
      "\u001b[?2004h\u001b[?2004l\r",
      "\u001b[?2004h\u001b[?2004l\r",
      "\u001b[?2004h\u001b[?2004l\r",
      "\u001b[?2004h"
     ]
    }
   ],
   "source": [
    "PRAGMA foreign_keys = OFF;\n",
    "\n",
    "DROP TABLE IF EXISTS purchases;\n",
    "DROP TABLE IF EXISTS nutritionalValues;\n",
    "DROP TABLE IF EXISTS livingIn;\n",
    "DROP TABLE IF EXISTS households;\n",
    "DROP TABLE IF EXISTS citizens;\n",
    "DROP TABLE IF EXISTS articles;\n",
    "\n",
    "PRAGMA foreign_keys = ON;\n",
    "\n",
    "CREATE TABLE households (\n",
    "    id INTEGER PRIMARY KEY,\n",
    "    street TEXT,\n",
    "    postcode INTEGER,\n",
    "    city TEXT,\n",
    "    floor INTEGER\n",
    ");\n",
    "\n",
    "CREATE TABLE citizens (\n",
    "    id INTEGER PRIMARY KEY,\n",
    "    firstname TEXT,\n",
    "    lastname TEXT,\n",
    "    birthday TEXT\n",
    ");\n",
    "\n",
    "CREATE TABLE livingIn (\n",
    "    household_id INTEGER,\n",
    "    citizen_id INTEGER,\n",
    "    start TEXT,\n",
    "    until TEXT,\n",
    "    FOREIGN KEY(household_id) REFERENCES households(id),\n",
    "    FOREIGN KEY(citizen_id) REFERENCES citizens(id),\n",
    "    PRIMARY KEY(citizen_id, start, until)\n",
    ");\n",
    "\n",
    "CREATE TABLE articles (\n",
    "    id INTEGER PRIMARY KEY,\n",
    "    label TEXT,\n",
    "    unit INTEGER\n",
    ");\n",
    "\n",
    "CREATE TABLE nutritionalValues (\n",
    "    id INTEGER PRIMARY KEY,\n",
    "    calories INTEGER,\n",
    "    FOREIGN KEY(id) REFERENCES articles(id)\n",
    ");\n",
    "\n",
    "CREATE TABLE purchases (\n",
    "    article_id INTEGER,\n",
    "    citizen_id INTEGER,\n",
    "    date TEXT,\n",
    "    amount REAL,\n",
    "    FOREIGN KEY(article_id) REFERENCES articles(id),\n",
    "    FOREIGN KEY(citizen_id) REFERENCES citizens(id),\n",
    "    PRIMARY KEY(article_id, citizen_id, date)\n",
    ");"
   ]
  },
  {
   "cell_type": "code",
   "execution_count": 3,
   "metadata": {
    "pycharm": {
     "name": "#%%\n"
    }
   },
   "outputs": [
    {
     "name": "stdout",
     "output_type": "stream",
     "text": [
      "\u001b[?2004l\r",
      "\u001b[?2004h\u001b[?2004l\r",
      "\u001b[?2004h\u001b[?2004l\r",
      "\u001b[?2004h\u001b[?2004l\r",
      "\u001b[?2004h\u001b[?2004l\r",
      "\u001b[?2004h\u001b[?2004l\r",
      "\u001b[?2004h\u001b[?2004l\r",
      "\u001b[?2004h\u001b[?2004l\r",
      "\u001b[?2004h\u001b[?2004l\r",
      "\u001b[?2004h\u001b[?2004l\r",
      "\u001b[?2004h\u001b[?2004l\r",
      "\u001b[?2004h\u001b[?2004l\r",
      "\u001b[?2004h\u001b[?2004l\r",
      "\u001b[?2004h\u001b[?2004l\r",
      "\u001b[?2004h"
     ]
    }
   ],
   "source": [
    "-- enable csv mode:\n",
    ".mode csv\n",
    "\n",
    "-- import the necessary files:\n",
    ".import data/nsa/households_no_header.csv households\n",
    ".import data/nsa/citizens_no_header.csv citizens\n",
    ".import data/nsa/livingIn_no_header.csv livingIn\n",
    ".import data/nsa/articles_no_header.csv articles\n",
    ".import data/nsa/nutritionalValues_no_header.csv nutritionalValues\n",
    ".import data/nsa/purchases_no_header.csv purchases\n",
    "\n",
    "-- enable pretty formatting:\n",
    ".mode columns\n",
    ".headers on"
   ]
  },
  {
   "cell_type": "markdown",
   "metadata": {
    "pycharm": {
     "name": "#%% md\n"
    }
   },
   "source": [
    "### Query 1\n",
    "\n",
    "First we would like to identify the households that have a house number of 13 and in which at least 2 citizens live or lived that were born before 1920. Note that the house number is contained at the end of the `street` attribute of `households`. The output should contain the following attributes and should be ordered ascending by the street name:\n",
    "1. The street of the household as \"Straße\",\n",
    "2. The zip code of the household as \"PLZ\",\n",
    "3. The city of the houshold as \"Stadt\"."
   ]
  },
  {
   "cell_type": "code",
   "execution_count": null,
   "metadata": {
    "pycharm": {
     "name": "#%%\n"
    }
   },
   "outputs": [],
   "source": [
    "DROP VIEW IF EXISTS q1_student;\n",
    "CREATE VIEW q1_student AS\n",
    "-- insert your query here\n",
    "-- ...\n"
   ]
  },
  {
   "cell_type": "code",
   "execution_count": null,
   "metadata": {
    "pycharm": {
     "name": "#%%\n"
    }
   },
   "outputs": [],
   "source": [
    "-- TEST\n",
    "-- Prepare the necessary table for result comparison and load the data\n",
    "-- You need to execute this cell only once\n",
    "-- Repeated execution will not affect test results, but lead to error messages as you try to import the same data multiple times\n",
    "\n",
    "DROP TABLE IF EXISTS q1;\n",
    "CREATE TABLE q1 (\n",
    "    Straße TEXT,\n",
    "    PLZ INTEGER,\n",
    "    Stadt TEXT,\n",
    "    PRIMARY KEY(Straße, PLZ, Stadt)\n",
    ");\n",
    "\n",
    "-- import query results\n",
    ".mode csv\n",
    ".import data/nsa/tests/q1_no_header.csv q1"
   ]
  },
  {
   "cell_type": "code",
   "execution_count": null,
   "metadata": {
    "pycharm": {
     "name": "#%%\n"
    }
   },
   "outputs": [],
   "source": [
    "-- TEST\n",
    "-- Note that this test compares the resulting tuples and does not ensure that your query is semantically correct.\n",
    "\n",
    "-- compare query results\n",
    ".mode columns\n",
    "\n",
    "SELECT *\n",
    "FROM (SELECT * FROM q1\n",
    "      EXCEPT\n",
    "      SELECT * FROM q1_student)\n",
    "UNION\n",
    "SELECT *\n",
    "FROM (SELECT * FROM q1_student\n",
    "      EXCEPT\n",
    "      SELECT * FROM q1);\n",
    "-- We expect an empty result."
   ]
  },
  {
   "cell_type": "markdown",
   "metadata": {
    "pycharm": {
     "name": "#%% md\n"
    }
   },
   "source": [
    "### Query 2\n",
    "\n",
    "Now, we would like to find for each article, which citizen(s) bought the most amount of it in a single purchase. Your output should contain the following attributes and should be ordered descending by the label of the article:\n",
    "\n",
    "1. The label of the article as \"Bezeichnung\",\n",
    "2. The maximum amount purchased in a single purchase of that particular article (either in liter or kilogram) as \"Menge\",\n",
    "3. The first name of the citizen as \"Vorname\",\n",
    "4. The last name of the citizen as \"Nachname\""
   ]
  },
  {
   "cell_type": "code",
   "execution_count": null,
   "metadata": {
    "pycharm": {
     "name": "#%%\n"
    }
   },
   "outputs": [],
   "source": [
    "DROP VIEW IF EXISTS q2_student;\n",
    "CREATE VIEW q2_student AS\n",
    "-- insert your query here\n",
    "-- ..."
   ]
  },
  {
   "cell_type": "code",
   "execution_count": null,
   "metadata": {
    "pycharm": {
     "name": "#%%\n"
    }
   },
   "outputs": [],
   "source": [
    "-- TEST\n",
    "-- Prepare the necessary table for result comparison and load the data\n",
    "-- You need to execute this cell only once\n",
    "-- Repeated execution will not affect test results, but lead to error messages as you try to import the same data multiple times\n",
    "\n",
    "DROP TABLE IF EXISTS q2;\n",
    "CREATE TABLE q2 (\n",
    "    Bezeichnung TEXT,\n",
    "    Menge INTEGER,\n",
    "    Vorname TEXT,\n",
    "    Nachname TEXT,\n",
    "    PRIMARY KEY(Bezeichnung)\n",
    ");\n",
    "\n",
    "-- import query results\n",
    ".mode csv\n",
    ".import data/nsa/tests/q2_no_header.csv q2"
   ]
  },
  {
   "cell_type": "code",
   "execution_count": null,
   "metadata": {
    "pycharm": {
     "name": "#%%\n"
    },
    "scrolled": false
   },
   "outputs": [],
   "source": [
    "-- TEST\n",
    "-- Note that this test compares the resulting tuples and does not ensure that your query is semantically correct.\n",
    "\n",
    "-- compare query results\n",
    ".mode columns\n",
    "\n",
    "SELECT *\n",
    "FROM (SELECT q2.Bezeichnung, ROUND(q2.Menge, 5) AS Menge, q2.Vorname, q2.Nachname FROM q2\n",
    "      EXCEPT\n",
    "      SELECT q2_student.Bezeichnung, ROUND(q2_student.Menge, 5) AS Menge, q2_student.Vorname, q2_student.Nachname FROM q2_student)\n",
    "UNION\n",
    "SELECT *\n",
    "FROM (SELECT q2_student.Bezeichnung, ROUND(q2_student.Menge, 5) AS Menge, q2_student.Vorname, q2_student.Nachname FROM q2_student\n",
    "      EXCEPT\n",
    "      SELECT q2.Bezeichnung, ROUND(q2.Menge, 5) AS Menge, q2.Vorname, q2.Nachname FROM q2);\n",
    "-- We expect an empty result."
   ]
  },
  {
   "cell_type": "markdown",
   "metadata": {
    "pycharm": {
     "name": "#%% md\n"
    }
   },
   "source": [
    "### Query 3\n",
    "\n",
    "Lastly, we want to identify the citizens that moved in two households between 1900 and 1949 (both included). You should also compute the purchased calories for each of these citizens during the time period between 1900 and 1949. Note, that the `calories` in `nutritionalValues` are given in kcal/100g, while the `amount` of a bought article in `purchases` is given in kg. Therefore you need to convert kcal/100g in kcal/kg. The output should consist of the following attributes, ordered descending by \"Kalorien\".\n",
    "1. The citizen's first name as \"Vorname\",\n",
    "2. The citizen's last name as \"Nachname\",\n",
    "3. The total amount of calories purchased during that time period by the citizen as \"Kalorien\"."
   ]
  },
  {
   "cell_type": "code",
   "execution_count": null,
   "metadata": {
    "pycharm": {
     "name": "#%%\n"
    }
   },
   "outputs": [],
   "source": [
    "DROP VIEW IF EXISTS q3_student;\n",
    "CREATE VIEW q3_student AS\n",
    "-- insert your query here\n",
    "-- ..."
   ]
  },
  {
   "cell_type": "code",
   "execution_count": null,
   "metadata": {
    "pycharm": {
     "name": "#%%\n"
    }
   },
   "outputs": [],
   "source": [
    "-- TEST\n",
    "-- Prepare the necessary table for result comparison and load the data\n",
    "-- You need to execute this cell only once\n",
    "-- Repeated execution will not affect test results, but lead to error messages as you try to import the same data multiple times\n",
    "\n",
    "DROP TABLE IF EXISTS q3;\n",
    "CREATE TABLE q3 (\n",
    "    Vorname TEXT,\n",
    "    Nachname TEXT,\n",
    "    Kalorien REAL,\n",
    "    PRIMARY KEY(Vorname, Nachname)\n",
    ");\n",
    "\n",
    "-- import query results\n",
    ".mode csv\n",
    ".import data/nsa/tests/q3_no_header.csv q3"
   ]
  },
  {
   "cell_type": "code",
   "execution_count": null,
   "metadata": {
    "pycharm": {
     "name": "#%%\n"
    }
   },
   "outputs": [],
   "source": [
    "-- TEST\n",
    "-- Note that this test compares the resulting tuples and does not ensure that your query is semantically correct.\n",
    "\n",
    "-- compare query results\n",
    ".mode columns\n",
    "\n",
    "SELECT *\n",
    "FROM (SELECT q3.Vorname, q3.Nachname, ROUND(q3.Kalorien, 5) AS Kalorien FROM q3\n",
    "      EXCEPT\n",
    "      SELECT q3_student.Vorname, q3_student.Nachname, ROUND(q3_student.Kalorien, 5) AS Kalorien FROM q3_student)\n",
    "UNION\n",
    "SELECT *\n",
    "FROM (SELECT q3_student.Vorname, q3_student.Nachname, ROUND(q3_student.Kalorien, 5) AS Kalorien FROM q3_student\n",
    "      EXCEPT\n",
    "      SELECT q3.Vorname, q3.Nachname, ROUND(q3.Kalorien, 5) AS Kalorien FROM q3);\n",
    "-- We expect an empty result."
   ]
  }
 ],
 "metadata": {
  "kernelspec": {
   "display_name": "Sqlite3",
   "language": "sqlite3",
   "name": "sqlite3"
  },
  "language_info": {
   "codemirror_mode": "sql",
   "file_extension": ".sql",
   "mimetype": "text/x-sql",
   "name": "sqlite3"
  },
  "varInspector": {
   "cols": {
    "lenName": 16,
    "lenType": 16,
    "lenVar": 40
   },
   "kernels_config": {
    "python": {
     "delete_cmd_postfix": "",
     "delete_cmd_prefix": "del ",
     "library": "var_list.py",
     "varRefreshCmd": "print(var_dic_list())"
    },
    "r": {
     "delete_cmd_postfix": ") ",
     "delete_cmd_prefix": "rm(",
     "library": "var_list.r",
     "varRefreshCmd": "cat(var_dic_list()) "
    }
   },
   "types_to_exclude": [
    "module",
    "function",
    "builtin_function_or_method",
    "instance",
    "_Feature"
   ],
   "window_display": false
  }
 },
 "nbformat": 4,
 "nbformat_minor": 2
}
